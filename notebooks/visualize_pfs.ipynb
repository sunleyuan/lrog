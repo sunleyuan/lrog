{
 "cells": [
  {
   "cell_type": "code",
   "execution_count": null,
   "metadata": {},
   "outputs": [],
   "source": [
    "import os\n",
    "import matplotlib.pyplot as plt\n",
    "import random\n",
    "from poni.default import get_cfg\n",
    "from poni.dataset import SemanticMapDataset, SemanticMapPrecomputedDataset\n",
    "\n",
    "VIS_SAVE_ROOT = \"visualizations/potential_functions\"\n",
    "os.makedirs(VIS_SAVE_ROOT, exist_ok=True)"
   ]
  },
  {
   "cell_type": "code",
   "execution_count": null,
   "metadata": {},
   "outputs": [],
   "source": [
    "cfg = get_cfg()\n",
    "cfg.defrost()\n",
    "cfg.DATASET.dset_name = \"gibson\"\n",
    "cfg.DATASET.root = \"data/semantic_maps/gibson/precomputed_dataset_24.0_123_spath_square\"\n",
    "cfg.DATASET.object_pf_cutoff_dist = 5.0\n",
    "cfg.DATASET.enable_unexp_area = True\n",
    "cfg.freeze()\n",
    "\n",
    "dataset = SemanticMapPrecomputedDataset(cfg.DATASET, split=\"val\")"
   ]
  },
  {
   "cell_type": "code",
   "execution_count": null,
   "metadata": {},
   "outputs": [],
   "source": [
    "n_samples = len(dataset)\n",
    "idx = random.randint(0, n_samples - 1)\n",
    "inputs, labs = dataset[idx]\n",
    "\n",
    "in_map = inputs['semmap'].float()\n",
    "lab_map = labs['semmap'].float()\n",
    "object_pfs = labs['object_pfs'].float() / 1000.0\n",
    "area_pfs = labs['area_pfs'].float() / 1000.0\n",
    "\n",
    "in_map_rgb = SemanticMapDataset.visualize_map(in_map, dataset=cfg.DATASET.dset_name)\n",
    "lab_map_rgb = SemanticMapDataset.visualize_map(lab_map, dataset=cfg.DATASET.dset_name)\n",
    "object_pfs_rgb = SemanticMapDataset.visualize_object_pfs(\n",
    "    in_map, lab_map, object_pfs, dataset=cfg.DATASET.dset_name\n",
    ")\n",
    "area_pfs_rgb = SemanticMapDataset.visualize_area_pf(\n",
    "    in_map, area_pfs, dset=cfg.DATASET.dset_name\n",
    ")\n",
    "vis_img = SemanticMapDataset.combine_image_grid(\n",
    "    in_map_rgb, lab_map_rgb, object_pfs_rgb, gt_area_pfs=area_pfs_rgb,\n",
    "    n_per_row=4, output_width=4096,\n",
    "    dset=cfg.DATASET.dset_name\n",
    ")\n",
    "plt.figure(figsize=(40, 20))\n",
    "plt.imshow(vis_img)"
   ]
  }
 ],
 "metadata": {
  "kernelspec": {
   "display_name": "Python 3.8.5 ('poni')",
   "language": "python",
   "name": "python3"
  },
  "language_info": {
   "codemirror_mode": {
    "name": "ipython",
    "version": 3
   },
   "file_extension": ".py",
   "mimetype": "text/x-python",
   "name": "python",
   "nbconvert_exporter": "python",
   "pygments_lexer": "ipython3",
   "version": "3.8.5"
  },
  "orig_nbformat": 4,
  "vscode": {
   "interpreter": {
    "hash": "cb5057c5eb60043cad0a4a5013fa3b3a60d2a5554bf3972da07059b2bd1fafc9"
   }
  }
 },
 "nbformat": 4,
 "nbformat_minor": 2
}
